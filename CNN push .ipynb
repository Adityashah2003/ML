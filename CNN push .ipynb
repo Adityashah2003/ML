{
 "cells": [
  {
   "cell_type": "code",
   "execution_count": 1,
   "id": "86259343",
   "metadata": {
    "scrolled": false
   },
   "outputs": [],
   "source": [
    "import numpy as np\n",
    "import matplotlib.pyplot as plt\n",
    "import matplotlib.image as mpimg\n",
    "%matplotlib inline\n",
    "\n",
    "import tensorflow as tf\n",
    "from keras.preprocessing import image\n",
    "from tensorflow.keras.preprocessing.image import ImageDataGenerator\n",
    "from keras.layers import Conv2D, MaxPool2D, Flatten, Dense, InputLayer\n"
   ]
  },
  {
   "cell_type": "code",
   "execution_count": 2,
   "id": "d20b9a1f",
   "metadata": {},
   "outputs": [
    {
     "name": "stdout",
     "output_type": "stream",
     "text": [
      "Found 2520 images belonging to 3 classes.\n",
      "Found 72 images belonging to 3 classes.\n"
     ]
    }
   ],
   "source": [
    "trainset = \"C:/Users/Aditya/Downloads/rps\"\n",
    "testset = \"C:/Users/Aditya/Downloads/rps-test-set\"\n",
    "\n",
    "data_gen = ImageDataGenerator(\n",
    "    rescale= 1/255,        \n",
    "    horizontal_flip=True,\n",
    "    vertical_flip = True,\n",
    "    validation_split = 0.2\n",
    ")  \n",
    "\n",
    "train_gen = data_gen.flow_from_directory(\n",
    "    trainset,\n",
    "    target_size = (300,300),\n",
    "    batch_size=32,\n",
    "    class_mode = 'categorical',\n",
    "    shuffle=True,\n",
    ")\n",
    "\n",
    "test_gen = data_gen.flow_from_directory(\n",
    "    testset,\n",
    "    target_size=(300,300),\n",
    "    batch_size=32,\n",
    "    class_mode='categorical',\n",
    "    shuffle=False,\n",
    "    subset = 'validation'\n",
    ")"
   ]
  },
  {
   "cell_type": "code",
   "execution_count": 3,
   "id": "ee27321c",
   "metadata": {},
   "outputs": [],
   "source": [
    "cnn = tf.keras.models.Sequential([\n",
    "  \n",
    "    tf.keras.layers.Conv2D(64, (3,3), activation='relu', input_shape=(300,300, 3),use_bias=True),\n",
    "    tf.keras.layers.MaxPooling2D(2,2),\n",
    "  \n",
    "    tf.keras.layers.Conv2D(64, (3,3), activation = 'relu', use_bias=True),\n",
    "    tf.keras.layers.MaxPooling2D(pool_size=(2, 2)),\n",
    "\n",
    "    tf.keras.layers.Conv2D(128, (3,3), activation = 'relu',use_bias=True),\n",
    "    tf.keras.layers.MaxPooling2D(pool_size=(2, 2)),\n",
    "    \n",
    "    tf.keras.layers.Conv2D(128, (3,3), activation = 'relu',use_bias=True),\n",
    "    tf.keras.layers.MaxPooling2D(pool_size=(2, 2)),\n",
    "    \n",
    "    tf.keras.layers.Conv2D(128, (3,3), activation = 'relu',use_bias=True),\n",
    "    tf.keras.layers.MaxPooling2D(pool_size=(2, 2)),\n",
    "   \n",
    "    tf.keras.layers.Conv2D(128, (3,3), activation = 'relu', use_bias=True),\n",
    "    tf.keras.layers.MaxPooling2D(pool_size=(2, 2)),\n",
    "\n",
    "    tf.keras.layers.Flatten(),\n",
    "  \n",
    "    tf.keras.layers.Dense(512, activation = 'relu', use_bias=True),\n",
    "    tf.keras.layers.Dense(3, activation='softmax', use_bias=True)\n",
    "    \n",
    "])"
   ]
  },
  {
   "cell_type": "code",
   "execution_count": 4,
   "id": "48f7c0f5",
   "metadata": {},
   "outputs": [],
   "source": [
    "# model.summary()"
   ]
  },
  {
   "cell_type": "code",
   "execution_count": 5,
   "id": "f0caf031",
   "metadata": {
    "scrolled": false
   },
   "outputs": [
    {
     "name": "stdout",
     "output_type": "stream",
     "text": [
      "Epoch 1/20\n",
      "79/79 [==============================] - 337s 4s/step - loss: 0.7519 - accuracy: 0.6750 - val_loss: 0.7438 - val_accuracy: 0.6806\n",
      "Epoch 2/20\n",
      "79/79 [==============================] - 358s 5s/step - loss: 0.0987 - accuracy: 0.9631 - val_loss: 0.2347 - val_accuracy: 0.9444\n",
      "Epoch 3/20\n",
      "79/79 [==============================] - 363s 5s/step - loss: 0.0531 - accuracy: 0.9865 - val_loss: 0.1155 - val_accuracy: 0.9444\n",
      "Epoch 4/20\n",
      "79/79 [==============================] - 362s 5s/step - loss: 0.0428 - accuracy: 0.9873 - val_loss: 0.0514 - val_accuracy: 0.9722\n",
      "Epoch 5/20\n",
      "79/79 [==============================] - 360s 5s/step - loss: 0.0272 - accuracy: 0.9913 - val_loss: 0.4397 - val_accuracy: 0.8889\n",
      "Epoch 6/20\n",
      "79/79 [==============================] - 361s 5s/step - loss: 0.0084 - accuracy: 0.9972 - val_loss: 0.0181 - val_accuracy: 1.0000\n",
      "Epoch 7/20\n",
      "79/79 [==============================] - 362s 5s/step - loss: 0.0013 - accuracy: 1.0000 - val_loss: 0.0047 - val_accuracy: 1.0000\n",
      "Epoch 8/20\n",
      "79/79 [==============================] - 364s 5s/step - loss: 3.5648e-04 - accuracy: 1.0000 - val_loss: 0.0982 - val_accuracy: 0.9722\n",
      "Epoch 9/20\n",
      "79/79 [==============================] - 371s 5s/step - loss: 0.0079 - accuracy: 0.9984 - val_loss: 0.0404 - val_accuracy: 0.9861\n",
      "Epoch 10/20\n",
      "79/79 [==============================] - 393s 5s/step - loss: 0.0272 - accuracy: 0.9917 - val_loss: 0.1212 - val_accuracy: 0.9306\n",
      "Epoch 11/20\n",
      "79/79 [==============================] - 385s 5s/step - loss: 0.0080 - accuracy: 0.9980 - val_loss: 0.0491 - val_accuracy: 0.9861\n",
      "Epoch 12/20\n",
      "79/79 [==============================] - 341s 4s/step - loss: 2.1772e-04 - accuracy: 1.0000 - val_loss: 0.0411 - val_accuracy: 0.9861\n",
      "Epoch 13/20\n",
      "79/79 [==============================] - 335s 4s/step - loss: 0.0025 - accuracy: 0.9988 - val_loss: 0.0116 - val_accuracy: 1.0000\n",
      "Epoch 14/20\n",
      "79/79 [==============================] - 349s 4s/step - loss: 8.9971e-04 - accuracy: 1.0000 - val_loss: 0.0190 - val_accuracy: 0.9861\n",
      "Epoch 15/20\n",
      "79/79 [==============================] - 398s 5s/step - loss: 1.3970e-04 - accuracy: 1.0000 - val_loss: 0.0103 - val_accuracy: 1.0000\n",
      "Epoch 16/20\n",
      "79/79 [==============================] - 343s 4s/step - loss: 4.1066e-05 - accuracy: 1.0000 - val_loss: 0.0421 - val_accuracy: 0.9722\n",
      "Epoch 17/20\n",
      "79/79 [==============================] - 340s 4s/step - loss: 1.4728e-04 - accuracy: 1.0000 - val_loss: 0.0084 - val_accuracy: 1.0000\n",
      "Epoch 18/20\n",
      "79/79 [==============================] - 356s 4s/step - loss: 8.4647e-06 - accuracy: 1.0000 - val_loss: 0.0052 - val_accuracy: 1.0000\n",
      "Epoch 19/20\n",
      "79/79 [==============================] - 338s 4s/step - loss: 4.3780e-05 - accuracy: 1.0000 - val_loss: 0.0263 - val_accuracy: 0.9861\n",
      "Epoch 20/20\n",
      "79/79 [==============================] - 347s 4s/step - loss: 7.0083e-06 - accuracy: 1.0000 - val_loss: 0.0281 - val_accuracy: 0.9722\n"
     ]
    }
   ],
   "source": [
    "cnn.compile(loss = 'categorical_crossentropy', optimizer='Adam', metrics=['accuracy'])\n",
    "cnn_fit = cnn.fit(train_gen, epochs=20, validation_data = test_gen, verbose = 1)"
   ]
  },
  {
   "cell_type": "code",
   "execution_count": 6,
   "id": "4bdbe8e7",
   "metadata": {},
   "outputs": [
    {
     "data": {
      "text/plain": [
       "<matplotlib.legend.Legend at 0x1fb2ce51cd0>"
      ]
     },
     "execution_count": 6,
     "metadata": {},
     "output_type": "execute_result"
    },
    {
     "data": {
      "image/png": "[encoded data removed]",
      "text/plain": [
       "<Figure size 432x288 with 1 Axes>"
      ]
     },
     "metadata": {
      "needs_background": "light"
     },
     "output_type": "display_data"
    }
   ],
   "source": [
    "Epochs = np.arange(1,21)\n",
    "\n",
    "# plt.plot(Epochs, cnn_fit.cnn_fit['loss'],label='train')\n",
    "plt.plot(cnn_fit.epoch, cnn_fit.cnn_fit[\"loss\"], label=\"Train loss\")\n",
    "plt.plot(Epochs, cnn_fit.cnn_fit['val_loss'], label='val')\n",
    "plt.xlabel('Epochs')\n",
    "plt.ylabel('Loss')\n",
    "plt.legend()"
   ]
  },
  {
   "cell_type": "code",
   "execution_count": 7,
   "id": "bcc4e2ca",
   "metadata": {},
   "outputs": [
    {
     "data": {
      "text/plain": [
       "<matplotlib.legend.Legend at 0x1fb2cf45040>"
      ]
     },
     "execution_count": 7,
     "metadata": {},
     "output_type": "execute_result"
    },
    {
     "data": {
      "image/png": "[encoded data removed]",
      "text/plain": [
       "<Figure size 432x288 with 1 Axes>"
      ]
     },
     "metadata": {
      "needs_background": "light"
     },
     "output_type": "display_data"
    }
   ],
   "source": [
    "# plt.plot(Epochs, cnn_fit.cnn_fit['accuracy'],label='train') \n",
    "plt.plot(cnn_fit.epoch, cnn_fit.cnn_fit[\"accuracy\"], label=\"Train acc\")\n",
    "plt.plot(Epochs, cnn_fit.cnn_fit['val_accuracy'], label='val')\n",
    "plt.xlabel('Epochs') \n",
    "plt.ylabel('Accuracy')  \n",
    "plt.legend()"
   ]
  }
 ],
 "metadata": {
  "kernelspec": {
   "display_name": "Python 3 (ipykernel)",
   "language": "python",
   "name": "python3"
  },
  "language_info": {
   "codemirror_mode": {
    "name": "ipython",
    "version": 3
   },
   "file_extension": ".py",
   "mimetype": "text/x-python",
   "name": "python",
   "nbconvert_exporter": "python",
   "pygments_lexer": "ipython3",
   "version": "3.9.9"
  }
 },
 "nbformat": 4,
 "nbformat_minor": 5
}
