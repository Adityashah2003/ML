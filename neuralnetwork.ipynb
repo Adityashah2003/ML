{
 "cells": [
  {
   "cell_type": "code",
   "execution_count": 20,
   "metadata": {},
   "outputs": [],
   "source": [
    "import pickle\n",
    "import numpy as np\n",
    "import cv2\n",
    "from sklearn.model_selection import train_test_split\n",
    "from numpy import exp\n",
    "import matplotlib.pyplot as plt\n",
    "%matplotlib inline\n",
    "import warnings\n",
    "warnings.filterwarnings(\"ignore\")\n"
   ]
  },
  {
   "cell_type": "code",
   "execution_count": 21,
   "metadata": {},
   "outputs": [],
   "source": [
    "def unpickle(file):\n",
    "    with open(file, 'rb') as fo:\n",
    "        dict0 = pickle.load(fo, encoding='bytes')\n",
    "        dict1 = dict0[b'labels']\n",
    "        dict2 = dict0[b'data']\n",
    "        \n",
    "    return dict1, dict2"
   ]
  },
  {
   "cell_type": "code",
   "execution_count": 22,
   "metadata": {},
   "outputs": [],
   "source": [
    "classes = ('plane', 'car', 'bird', 'cat',\n",
    "           'deer', 'dog', 'frog', 'horse', 'ship', 'truck')\n",
    "labels = []\n",
    "data = []\n",
    "names = ['data_batch_1', 'data_batch_2', 'data_batch_3', 'data_batch_4', 'data_batch_5', 'data_batch_6']\n",
    "for i in names:\n",
    "    x, y = unpickle(i)\n",
    "    labels.append(x)\n",
    "    data.append(y)\n",
    "labels = np.array(labels)"
   ]
  },
  {
   "cell_type": "code",
   "execution_count": 23,
   "metadata": {},
   "outputs": [
    {
     "name": "stdout",
     "output_type": "stream",
     "text": [
      "(6, 10000)\n",
      "(6, 10000, 1024)\n",
      "(60000,)\n",
      "(60000, 1024)\n",
      "(60000, 10)\n"
     ]
    }
   ],
   "source": [
    "new_labels = labels.flatten()\n",
    "new_data = []\n",
    "for i in data:\n",
    "    for j in i:\n",
    "        new_data.append(j)\n",
    "new_data = np.array(new_data)\n",
    "data = np.array(data)\n",
    "#new_labels = np.reshape(new_labels,(1,len(new_labels)))\n",
    "new_data = new_data/225\n",
    "print(labels.shape)\n",
    "print(data.shape)\n",
    "print(new_labels.shape)\n",
    "print(new_data.shape)\n",
    "new_labels_encoded = np.eye(10)[new_labels]\n",
    "print(new_labels_encoded.shape)"
   ]
  },
  {
   "cell_type": "code",
   "execution_count": 24,
   "metadata": {},
   "outputs": [
    {
     "data": {
      "text/plain": [
       "<matplotlib.image.AxesImage at 0x1f75d009f08>"
      ]
     },
     "execution_count": 24,
     "metadata": {},
     "output_type": "execute_result"
    },
    {
     "data": {
      "image/png": "[encoded data removed]",
      "text/plain": [
       "<Figure size 432x288 with 1 Axes>"
      ]
     },
     "metadata": {
      "needs_background": "light"
     },
     "output_type": "display_data"
    }
   ],
   "source": [
    "_ = 150\n",
    "img1 = np.reshape(new_data[_], (32,32))\n",
    "plt.imshow(img1)"
   ]
  },
  {
   "cell_type": "code",
   "execution_count": 25,
   "metadata": {},
   "outputs": [
    {
     "name": "stdout",
     "output_type": "stream",
     "text": [
      "3\n",
      "[0. 0. 0. 1. 0. 0. 0. 0. 0. 0.]\n"
     ]
    },
    {
     "data": {
      "text/plain": [
       "'cat'"
      ]
     },
     "execution_count": 25,
     "metadata": {},
     "output_type": "execute_result"
    }
   ],
   "source": [
    "print(new_labels[_])\n",
    "print(new_labels_encoded[_])\n",
    "classes[new_labels[_]]"
   ]
  },
  {
   "cell_type": "code",
   "execution_count": 26,
   "metadata": {},
   "outputs": [
    {
     "name": "stdout",
     "output_type": "stream",
     "text": [
      "(array([0, 1, 2, 3, 4, 5, 6, 7, 8, 9]), array([6000, 6000, 6000, 6000, 6000, 6000, 6000, 6000, 6000, 6000],\n",
      "      dtype=int64))\n",
      "(54000, 1024)\n",
      "(6000, 1024)\n",
      "(54000, 10)\n",
      "(6000, 10)\n"
     ]
    }
   ],
   "source": [
    "print(np.unique(new_labels, return_counts = True))\n",
    "X_train, X_test, Y_train, Y_test = train_test_split(new_data, new_labels_encoded, test_size=0.1, random_state=42)\n",
    "#X_train, X_test, Y_train, Y_test = X_train.T, X_test.T, Y_train.T, Y_test.T\n",
    "print(X_train.shape)\n",
    "print(X_test.shape)\n",
    "print(Y_train.shape)\n",
    "print(Y_test.shape)"
   ]
  },
  {
   "cell_type": "code",
   "execution_count": 27,
   "metadata": {},
   "outputs": [],
   "source": [
    "sizes = [1024, 20, 20, 10]\n",
    "epochs = 50\n",
    "alpha = 0.04"
   ]
  },
  {
   "cell_type": "code",
   "execution_count": 28,
   "metadata": {},
   "outputs": [],
   "source": [
    "input_layer= sizes[0]\n",
    "hidden_1= sizes[1]\n",
    "hidden_2= sizes[2]\n",
    "output_layer= sizes[3]\n",
    "\n",
    "parameters = {\n",
    "    'W1':np.random.randn(hidden_1, input_layer) * np.sqrt(1. / hidden_1),\n",
    "    'W2':np.random.randn(hidden_2, hidden_1) * np.sqrt(1. / hidden_2),\n",
    "    'W3':np.random.randn(output_layer, hidden_2) * np.sqrt(1. / output_layer)\n",
    "}"
   ]
  },
  {
   "cell_type": "code",
   "execution_count": 29,
   "metadata": {},
   "outputs": [],
   "source": [
    "def compute_cost(y, y_hat):\n",
    "    m = len(y_hat)\n",
    "    cost =  -(1 / m) * np.sum(\n",
    "        y* np.log(y_hat))\n",
    "\n",
    "    return cost"
   ]
  },
  {
   "cell_type": "code",
   "execution_count": 30,
   "metadata": {},
   "outputs": [],
   "source": [
    "def sigmoid(x):\n",
    "    return 1/(1 + np.exp(-x))\n",
    "\n",
    "def sigmoid_derivative(x):\n",
    "    return (np.exp(-x))/((np.exp(-x)+1)**2)\n",
    "\n",
    "def relu(x):\n",
    "    return np.where(x<=0, 0, x)\n",
    "\n",
    "def relu_derivative(x):\n",
    "    return np.where(x<0, 0, 1)\n",
    "\n",
    "def softmax(x):\n",
    "    exps = np.exp(x - x.max())\n",
    "    return exps / np.sum(exps, axis=0)\n",
    "\n",
    "def softmax_derivative(x):\n",
    "    exps = np.exp(x - x.max())\n",
    "    return exps / np.sum(exps, axis=0) * (1 - exps / np.sum(exps, axis=0))"
   ]
  },
  {
   "cell_type": "code",
   "execution_count": 31,
   "metadata": {},
   "outputs": [],
   "source": [
    "def forward_pass(x_train):\n",
    "    params = parameters\n",
    "\n",
    "    # input layer activations becomes sample\n",
    "    params['A0'] = x_train\n",
    "\n",
    "    # input layer to hidden layer 1\n",
    "    params['Z1'] = np.dot(params[\"W1\"], params['A0'])\n",
    "    params['A1'] = sigmoid(params['Z1'])\n",
    "\n",
    "    # hidden layer 1 to hidden layer 2\n",
    "    params['Z2'] = np.dot(params[\"W2\"], params['A1'])\n",
    "    params['A2'] = sigmoid(params['Z2'])\n",
    "\n",
    "    # hidden layer 2 to output layer\n",
    "    params['Z3'] = np.dot(params[\"W3\"], params['A2'])\n",
    "    params['A3'] =  655(params['Z3'])\n",
    "\n",
    "    return params['A3']"
   ]
  },
  {
   "cell_type": "code",
   "execution_count": 32,
   "metadata": {},
   "outputs": [],
   "source": [
    "def backward_pass(y_train, output):\n",
    "\n",
    "    params = parameters\n",
    "    error_dict = {}\n",
    "\n",
    "    # Calculate W3 update\n",
    "    error = 2 * (output - y_train) / output.shape[0] * softmax_derivative(params['Z3'])\n",
    "    error_dict['W3'] = np.outer(error, params['A2'])\n",
    "\n",
    "    # Calculate W2 update\n",
    "    error = np.dot(params['W3'].T, error) * sigmoid_derivative(params['Z2'])\n",
    "    error_dict['W2'] = np.outer(error, params['A1'])\n",
    "\n",
    "    # Calculate W1 update\n",
    "    error = np.dot(params['W2'].T, error) * sigmoid_derivative(params['Z1'])\n",
    "    error_dict['W1'] = np.outer(error, params['A0'])\n",
    "\n",
    "    return error_dict\n"
   ]
  },
  {
   "cell_type": "code",
   "execution_count": 33,
   "metadata": {},
   "outputs": [],
   "source": [
    "def update(changes_to_w):\n",
    "    for key, value in changes_to_w.items():\n",
    "        parameters[key] -= alpha * value"
   ]
  },
  {
   "cell_type": "code",
   "execution_count": 34,
   "metadata": {},
   "outputs": [],
   "source": [
    "def Accuracy(X,Y, loss = False):\n",
    "    predictions = []\n",
    "    distribution = []\n",
    "\n",
    "    for x, y in zip(X, Y):\n",
    "        output = forward_pass(x)\n",
    "        distribution.append(output)\n",
    "        pred = np.argmax(output)\n",
    "        predictions.append(pred == np.argmax(y))\n",
    "    loss = compute_cost(distribution, Y)\n",
    "    if loss == True:\n",
    "        return loss\n",
    "    else:\n",
    "        return np.mean(predictions)\n"
   ]
  },
  {
   "cell_type": "code",
   "execution_count": 35,
   "metadata": {},
   "outputs": [],
   "source": [
    "def Train(x_train, y_train, x_val, y_val,alpha):\n",
    "    acc = []\n",
    "    l = []\n",
    "    for iteration in range(epochs):\n",
    "        for x,y in zip(x_train, y_train):\n",
    "            output = forward_pass(x)\n",
    "            \n",
    "            changes_to_w = backward_pass(y, output)\n",
    "            update(changes_to_w)\n",
    "        \n",
    "        accuracy = Accuracy(x_val, y_val)\n",
    "        accuracy_train = Accuracy(x_train, y_train)\n",
    "            \n",
    "        acc.append(accuracy)\n",
    "        if iteration > 0:\n",
    "            if acc[iteration] < acc[iteration-1]:\n",
    "                alpha/=2\n",
    "\n",
    "        print('Epoch: {0}, Accuracy: {1:.2f}%, Accuracy_train: {2:.2f}%'.format(\n",
    "            iteration+1, accuracy * 100, accuracy_train * 100\n",
    "        ))\n",
    "        \n",
    "    return l\n"
   ]
  },
  {
   "cell_type": "code",
   "execution_count": 36,
   "metadata": {},
   "outputs": [
    {
     "name": "stdout",
     "output_type": "stream",
     "text": [
      "Epoch: 1, Accuracy: 19.40%, Accuracy_train: 20.10%\n",
      "Epoch: 2, Accuracy: 21.51%, Accuracy_train: 22.09%\n",
      "Epoch: 3, Accuracy: 24.35%, Accuracy_train: 25.04%\n",
      "Epoch: 4, Accuracy: 27.10%, Accuracy_train: 27.98%\n",
      "Epoch: 5, Accuracy: 28.88%, Accuracy_train: 30.25%\n",
      "Epoch: 6, Accuracy: 30.56%, Accuracy_train: 31.81%\n",
      "Epoch: 7, Accuracy: 31.93%, Accuracy_train: 33.14%\n",
      "Epoch: 8, Accuracy: 33.11%, Accuracy_train: 34.40%\n",
      "Epoch: 9, Accuracy: 34.66%, Accuracy_train: 35.72%\n",
      "Epoch: 10, Accuracy: 36.14%, Accuracy_train: 37.11%\n",
      "Epoch: 11, Accuracy: 37.32%, Accuracy_train: 38.20%\n",
      "Epoch: 12, Accuracy: 39.17%, Accuracy_train: 40.10%\n",
      "Epoch: 13, Accuracy: 40.44%, Accuracy_train: 41.47%\n",
      "Epoch: 14, Accuracy: 41.62%, Accuracy_train: 42.78%\n",
      "Epoch: 15, Accuracy: 41.39%, Accuracy_train: 43.01%\n",
      "Epoch: 16, Accuracy: 41.97%, Accuracy_train: 43.34%\n",
      "Epoch: 17, Accuracy: 42.29%, Accuracy_train: 43.57%\n",
      "Epoch: 18, Accuracy: 42.44%, Accuracy_train: 43.94%\n",
      "Epoch: 19, Accuracy: 42.69%, Accuracy_train: 44.18%\n",
      "Epoch: 20, Accuracy: 42.49%, Accuracy_train: 44.36%\n",
      "Epoch: 21, Accuracy: 42.74%, Accuracy_train: 44.51%\n",
      "Epoch: 22, Accuracy: 43.15%, Accuracy_train: 44.65%\n",
      "Epoch: 23, Accuracy: 43.00%, Accuracy_train: 44.79%\n",
      "Epoch: 24, Accuracy: 43.24%, Accuracy_train: 44.96%\n",
      "Epoch: 25, Accuracy: 43.52%, Accuracy_train: 45.06%\n",
      "Epoch: 26, Accuracy: 43.39%, Accuracy_train: 45.05%\n",
      "Epoch: 27, Accuracy: 43.49%, Accuracy_train: 45.17%\n",
      "Epoch: 28, Accuracy: 43.64%, Accuracy_train: 45.23%\n",
      "Epoch: 29, Accuracy: 43.85%, Accuracy_train: 45.31%\n",
      "Epoch: 30, Accuracy: 43.90%, Accuracy_train: 45.42%\n",
      "Epoch: 31, Accuracy: 43.99%, Accuracy_train: 45.52%\n",
      "Epoch: 32, Accuracy: 44.12%, Accuracy_train: 45.58%\n",
      "Epoch: 33, Accuracy: 44.15%, Accuracy_train: 45.73%\n",
      "Epoch: 34, Accuracy: 44.57%, Accuracy_train: 45.82%\n",
      "Epoch: 35, Accuracy: 44.40%, Accuracy_train: 45.90%\n",
      "Epoch: 36, Accuracy: 44.34%, Accuracy_train: 45.97%\n",
      "Epoch: 37, Accuracy: 44.39%, Accuracy_train: 46.06%\n",
      "Epoch: 38, Accuracy: 44.45%, Accuracy_train: 46.15%\n",
      "Epoch: 39, Accuracy: 44.64%, Accuracy_train: 46.25%\n",
      "Epoch: 40, Accuracy: 44.75%, Accuracy_train: 46.26%\n",
      "Epoch: 41, Accuracy: 44.84%, Accuracy_train: 46.34%\n",
      "Epoch: 42, Accuracy: 45.00%, Accuracy_train: 46.36%\n",
      "Epoch: 43, Accuracy: 45.00%, Accuracy_train: 46.41%\n",
      "Epoch: 44, Accuracy: 45.02%, Accuracy_train: 46.46%\n",
      "Epoch: 45, Accuracy: 44.92%, Accuracy_train: 46.57%\n",
      "Epoch: 46, Accuracy: 45.04%, Accuracy_train: 46.60%\n",
      "Epoch: 47, Accuracy: 45.24%, Accuracy_train: 46.65%\n",
      "Epoch: 48, Accuracy: 45.19%, Accuracy_train: 46.75%\n",
      "Epoch: 49, Accuracy: 45.32%, Accuracy_train: 46.78%\n",
      "Epoch: 50, Accuracy: 45.05%, Accuracy_train: 46.86%\n"
     ]
    }
   ],
   "source": [
    "LOSS = Train(X_train, Y_train, X_test, Y_test,alpha)"
   ]
  },
  {
   "cell_type": "code",
   "execution_count": 37,
   "metadata": {},
   "outputs": [
    {
     "name": "stdout",
     "output_type": "stream",
     "text": [
      "[0.32796296296296296, 0.3261296296296296, 0.32422222222222224, 0.3227407407407407, 0.32075925925925924, 0.31837037037037036, 0.3152962962962963, 0.31246296296296294, 0.31072222222222223, 0.30666666666666664, 0.30192592592592593, 0.29353703703703704, 0.28479629629629627, 0.27116666666666667, 0.2614444444444444, 0.23985185185185184, 0.191]\n"
     ]
    }
   ],
   "source": [
    "print(LOSS)"
   ]
  }
 ],
 "metadata": {
  "kernelspec": {
   "display_name": "Python 3 (ipykernel)",
   "language": "python",
   "name": "python3"
  },
  "language_info": {
   "codemirror_mode": {
    "name": "ipython",
    "version": 3
   },
   "file_extension": ".py",
   "mimetype": "text/x-python",
   "name": "python",
   "nbconvert_exporter": "python",
   "pygments_lexer": "ipython3",
   "version": "3.9.9"
  }
 },
 "nbformat": 4,
 "nbformat_minor": 4
}
