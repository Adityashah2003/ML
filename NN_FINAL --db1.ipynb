{
 "cells": [
  {
   "cell_type": "code",
   "execution_count": 1,
   "id": "8a76f841",
   "metadata": {},
   "outputs": [],
   "source": [
    "import pickle as pkl\n",
    "import pandas as pd\n",
    "import matplotlib.pyplot as plt\n",
    "import numpy as np\n",
    "%matplotlib inline"
   ]
  },
  {
   "cell_type": "code",
   "execution_count": 2,
   "id": "0db73e22",
   "metadata": {},
   "outputs": [],
   "source": [
    "df = pd.read_pickle(r'C:\\Users\\Aditya\\OneDrive - Manipal Academy of Higher Education\\Desktop\\Tasks\\Manas\\Datasets\\nnfs_dataset\\data_batch_3')\n",
    "\n",
    "X =np.array(df[b'data'])\n",
    "Y = np.array(df[b'labels'])"
   ]
  },
  {
   "cell_type": "code",
   "execution_count": 3,
   "id": "2112d043",
   "metadata": {},
   "outputs": [
    {
     "name": "stdout",
     "output_type": "stream",
     "text": [
      "(1024, 10000)\n",
      "(10000,)\n"
     ]
    }
   ],
   "source": [
    "X= X/255\n",
    "m = 10000\n",
    "X = X.T\n",
    "# Y= Y.reshape(1, 10000)\n",
    "print(X.shape)\n",
    "print(Y.shape)"
   ]
  },
  {
   "cell_type": "code",
   "execution_count": 4,
   "id": "159b0dea",
   "metadata": {},
   "outputs": [],
   "source": [
    "def one_hot(Y):\n",
    "    one_hot_Y = np.zeros((Y.size, Y.max() + 1))\n",
    "    one_hot_Y[np.arange(Y.size), Y] = 1\n",
    "    return one_hot_Y"
   ]
  },
  {
   "cell_type": "code",
   "execution_count": 5,
   "id": "db285274",
   "metadata": {},
   "outputs": [
    {
     "name": "stdout",
     "output_type": "stream",
     "text": [
      "[[0. 0. 0. 0. 0. 0. 0. 0. 1. 0.]\n",
      " [0. 0. 0. 0. 0. 1. 0. 0. 0. 0.]\n",
      " [1. 0. 0. 0. 0. 0. 0. 0. 0. 0.]]\n",
      "(10000,)\n"
     ]
    }
   ],
   "source": [
    "a = one_hot(Y)\n",
    "print(a[:3])\n",
    "print(Y.shape)"
   ]
  },
  {
   "cell_type": "code",
   "execution_count": 6,
   "id": "a972c6d0",
   "metadata": {},
   "outputs": [],
   "source": [
    "def initialize_parameters():\n",
    "    n_x = 1024\n",
    "    n_h = 32\n",
    "    n_y = 10\n",
    "    W1 = np.random.rand(n_h,n_x) * 0.1\n",
    "    b1 = np.random.rand(n_h,1)*0.1\n",
    "    W2 = np.random.rand(n_y,n_h) *0.1\n",
    "    b2 = np.random.rand(n_y,1)*0.1\n",
    "    \n",
    "#     print(W1.shape)\n",
    "#     print(b1.shape)\n",
    "#     print(W2.shape)\n",
    "#     print(b2.shape)\n",
    "#     print(W1[:2])\n",
    "#     print(b1[:2])\n",
    "#     print(W2[:2])\n",
    "#     print(b2[:2])\n",
    "    return W1, b1, W2, b2"
   ]
  },
  {
   "cell_type": "code",
   "execution_count": 7,
   "id": "a435791f",
   "metadata": {},
   "outputs": [],
   "source": [
    "W1, b1, W2, b2 = initialize_parameters()"
   ]
  },
  {
   "cell_type": "code",
   "execution_count": 8,
   "id": "bdedc60f",
   "metadata": {},
   "outputs": [],
   "source": [
    "def one_hot(Y):\n",
    "    one_hot_Y = np.zeros((Y.size, Y.max() + 1))\n",
    "    one_hot_Y[np.arange(Y.size), Y] = 1\n",
    "    return one_hot_Y"
   ]
  },
  {
   "cell_type": "code",
   "execution_count": 9,
   "id": "4b469bb9",
   "metadata": {},
   "outputs": [],
   "source": [
    "# a = one_hot(Y)\n",
    "# print(a[:3])\n",
    "# print(Y.shape)"
   ]
  },
  {
   "cell_type": "code",
   "execution_count": 10,
   "id": "082a783c",
   "metadata": {},
   "outputs": [],
   "source": [
    "def ReLU(Z):\n",
    "    return np.maximum(Z,0)\n",
    "\n",
    "def ReLU_deriv(Z):\n",
    "    return Z > 0\n",
    "\n",
    "def softmax(Z):\n",
    "    A = np.exp(Z) / np.sum(np.exp(Z),axis=0)\n",
    "    return A"
   ]
  },
  {
   "cell_type": "code",
   "execution_count": 11,
   "id": "5a949bc4",
   "metadata": {},
   "outputs": [],
   "source": [
    "def forward_prop(X,W1, b1, W2, b2):\n",
    "    Z1 = np.dot(W1, X) + b1\n",
    "    A1 = ReLU(Z1)\n",
    "    Z2 = np.dot(W2, A1) + b2\n",
    "    A2 = softmax(Z2)\n",
    "\n",
    "    \n",
    "#     print(Z1.shape)\n",
    "#     print(A1.shape)\n",
    "#     print(Z2.shape)\n",
    "#     print(A2.shape)\n",
    "#     print(Z1[:2])\n",
    "#     print(A2[:2])\n",
    "#     print(Z2[:2])\n",
    "#     print(len(A2))\n",
    "#     print(np.sum(A2,axis=0))\n",
    "    \n",
    "    return Z1,A1,Z2,A2"
   ]
  },
  {
   "cell_type": "code",
   "execution_count": 12,
   "id": "961c28a5",
   "metadata": {},
   "outputs": [],
   "source": [
    "Z1, A1, Z2, A2 = forward_prop(X, W1, b1, W2, b2)"
   ]
  },
  {
   "cell_type": "code",
   "execution_count": 13,
   "id": "ce83de3c",
   "metadata": {},
   "outputs": [],
   "source": [
    "costlist = []\n",
    "\n",
    "def loss_function(A2, Y, W1, b1, W2, b2):\n",
    "#     correct_confi=np.array(A2*(one_hot(Y).T))\n",
    "#     print(correct_confi.shape)\n",
    "#     cost=np.sum(correct_confi,axis=0)\n",
    "#     print(cost.min())\n",
    "\n",
    "#     negetive_log = one_hot(Y).T - correct_confi\n",
    "#     loss = np.mean(negetive_log)\n",
    "#     incorrect_confi = one_hot(Y),A2\n",
    "#     print(incorrect_confi[:2])\n",
    "    \n",
    "    A2_clipped = np.clip(A2,1e-7 , 1-1e-7)\n",
    "    A2 = A2_clipped\n",
    "    \n",
    "    logprobs = np.multiply(np.log(A2), one_hot(Y).T)\n",
    "    loss = - np.sum(logprobs) / m\n",
    "    costlist.append(loss)\n",
    "    \n",
    "    return loss "
   ]
  },
  {
   "cell_type": "code",
   "execution_count": 14,
   "id": "a1a56d5f",
   "metadata": {
    "scrolled": false
   },
   "outputs": [],
   "source": [
    "loss  = loss_function(A2, Y, W1, b1, W2, b2)"
   ]
  },
  {
   "cell_type": "code",
   "execution_count": 15,
   "id": "67669057",
   "metadata": {},
   "outputs": [],
   "source": [
    "def backward_prop(W1, b1, W2, b2,Z1, A1, Z2, A2, X, Y):\n",
    "    one_hot_Y = one_hot(Y)\n",
    "    dZ2 = A2 - one_hot_Y.T\n",
    "    dW2 = (1 / m) * np.dot(dZ2, A1.T)\n",
    "    db2 = (1 / m) * np.sum(dZ2,axis = 1,keepdims=True)\n",
    "    dZ1 = (W2.T.dot(dZ2))\n",
    "    dZ1 = dZ1 * ReLU_deriv(Z1)\n",
    "    dW1 = (1 / m) * np.dot(dZ1, X.T)\n",
    "    db1 = (1 / m) * np.sum(dZ1,axis=1,keepdims=True)\n",
    "    \n",
    "    \n",
    "#     print('DZ2: ',dZ2.shape)\n",
    "#     print('DW2: ',dW2.shape)\n",
    "#     print('DB2: ',db2.shape)\n",
    "#     print('DZ1: ',dZ1.shape)\n",
    "#     print('DW1: ',dW1.shape)\n",
    "#     print('DB1: ',db1.shape)\n",
    "    \n",
    "    \n",
    "#     print(dZ2[1])\n",
    "#     print(dW2[:2])\n",
    "#     print(db2[:2])\n",
    "#     print(dZ1[:2])\n",
    "#     print(dW1[:2])\n",
    "#     print(db1[:1])\n",
    "    \n",
    "    return dW1, db1, dW2, db2\n",
    "    "
   ]
  },
  {
   "cell_type": "code",
   "execution_count": 16,
   "id": "20d2d7fa",
   "metadata": {},
   "outputs": [],
   "source": [
    "dW1, db1, dW2, db2 =backward_prop(W1, b1, W2, b2, Z1, A1, Z2, A2, X, Y)"
   ]
  },
  {
   "cell_type": "code",
   "execution_count": 17,
   "id": "5c511af3",
   "metadata": {},
   "outputs": [],
   "source": [
    "def update_parameters(W1, b1, W2, b2, dW1, db1, dW2, db2, learning_rate= 0.015):\n",
    "    W1 = W1 - learning_rate * dW1\n",
    "    b1 = b1 - learning_rate * db1\n",
    "    W2 = W2 - learning_rate * dW2\n",
    "    b2 = b2 - learning_rate * db2\n",
    "        \n",
    "#     print(W1[:2])\n",
    "#     print(b1[:2])\n",
    "#     print(W2[:2])\n",
    "#     print(b2[:2])\n",
    "    \n",
    "    return W1, b1, W2, b2"
   ]
  },
  {
   "cell_type": "code",
   "execution_count": 18,
   "id": "68c55d66",
   "metadata": {},
   "outputs": [],
   "source": [
    "W1, b1, W2, b2  = update_parameters(W1, b1, W2, b2 , dW1, db1, dW2, db2)"
   ]
  },
  {
   "cell_type": "code",
   "execution_count": 19,
   "id": "6e218883",
   "metadata": {},
   "outputs": [],
   "source": [
    "def get_predictions(A2):\n",
    "    return np.argmax(A2)\n",
    "\n",
    "def get_accuracy(predictions, Y):\n",
    "    return np.sum(predictions == Y) / Y.size"
   ]
  },
  {
   "cell_type": "code",
   "execution_count": 20,
   "id": "db8978c0",
   "metadata": {},
   "outputs": [],
   "source": [
    "def nn_model(X, Y, n_h, num_iterations):\n",
    "    W1, b1, W2, b2 = initialize_parameters()\n",
    "    for i in range(0, num_iterations):\n",
    "        Z1, A1, Z2, A2 = forward_prop(X, W1, b1, W2, b2)\n",
    "        loss = loss_function(A2, Y, W1, b1, W2, b2)\n",
    "        dW1, db1, dW2, db2 =backward_prop(W1, b1, W2, b2, Z1, A1, Z2, A2, X, Y)\n",
    "        W1, b1, W2, b2  = update_parameters(W1, b1, W2, b2 , dW1, db1, dW2, db2)\n",
    "        if i % 1000 == 0:\n",
    "            predictions = get_predictions(A2)\n",
    "            print(\"Iteration: \", i , '  loss:',loss , \"   accuracy: \",(get_accuracy(predictions, Y))*100)\n",
    "    return W1, b1, W2, b2,loss"
   ]
  },
  {
   "cell_type": "code",
   "execution_count": 21,
   "id": "7d03de82",
   "metadata": {
    "scrolled": true
   },
   "outputs": [
    {
     "name": "stdout",
     "output_type": "stream",
     "text": [
      "Iteration:  0   loss: 8.331015373814985    accuracy:  9.969999999999999\n",
      "Iteration:  1000   loss: 2.1051654872586556    accuracy:  23.21\n",
      "Iteration:  2000   loss: 2.042502826822829    accuracy:  27.43\n",
      "Iteration:  3000   loss: 2.01483662341212    accuracy:  29.37\n",
      "Iteration:  4000   loss: 1.9934884365862144    accuracy:  30.409999999999997\n"
     ]
    }
   ],
   "source": [
    "W1, b1, W2, b2,loss = nn_model(X, Y, n_h = 32, num_iterations=5000)"
   ]
  },
  {
   "cell_type": "code",
   "execution_count": 22,
   "id": "13191f38",
   "metadata": {},
   "outputs": [
    {
     "data": {
      "text/plain": [
       "[<matplotlib.lines.Line2D at 0x28f45254fa0>]"
      ]
     },
     "execution_count": 22,
     "metadata": {},
     "output_type": "execute_result"
    },
    {
     "data": {
      "image/png": "[encoded data removed]",
      "text/plain": [
       "<Figure size 432x288 with 1 Axes>"
      ]
     },
     "metadata": {
      "needs_background": "light"
     },
     "output_type": "display_data"
    }
   ],
   "source": [
    "num_iterations = 5000\n",
    "plt.plot(np.arange(num_iterations+1), costlist)"
   ]
  }
 ],
 "metadata": {
  "kernelspec": {
   "display_name": "Python 3 (ipykernel)",
   "language": "python",
   "name": "python3"
  },
  "language_info": {
   "codemirror_mode": {
    "name": "ipython",
    "version": 3
   },
   "file_extension": ".py",
   "mimetype": "text/x-python",
   "name": "python",
   "nbconvert_exporter": "python",
   "pygments_lexer": "ipython3",
   "version": "3.9.9"
  }
 },
 "nbformat": 4,
 "nbformat_minor": 5
}
