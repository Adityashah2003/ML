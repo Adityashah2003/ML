{
 "cells": [
  {
   "cell_type": "code",
   "execution_count": 1,
   "id": "7e8d0761",
   "metadata": {},
   "outputs": [],
   "source": [
    "import numpy as np\n",
    "import pandas as pd\n",
    "import matplotlib.pyplot as plt\n",
    "%matplotlib inline\n",
    "import seaborn as sns"
   ]
  },
  {
   "cell_type": "code",
   "execution_count": 2,
   "id": "349f8edc",
   "metadata": {},
   "outputs": [],
   "source": [
    "data  = pd.read_csv(r'C:\\Users\\Aditya\\OneDrive - Manipal Academy of Higher Education\\Desktop\\SP\\Manas\\Datasets\\linear_regression_dataset.csv')"
   ]
  },
  {
   "cell_type": "code",
   "execution_count": 3,
   "id": "4f2a358f",
   "metadata": {
    "scrolled": false
   },
   "outputs": [
    {
     "data": {
      "text/html": [
       "<div>\n",
       "<style scoped>\n",
       "    .dataframe tbody tr th:only-of-type {\n",
       "        vertical-align: middle;\n",
       "    }\n",
       "\n",
       "    .dataframe tbody tr th {\n",
       "        vertical-align: top;\n",
       "    }\n",
       "\n",
       "    .dataframe thead th {\n",
       "        text-align: right;\n",
       "    }\n",
       "</style>\n",
       "<table border=\"1\" class=\"dataframe\">\n",
       "  <thead>\n",
       "    <tr style=\"text-align: right;\">\n",
       "      <th></th>\n",
       "      <th>AGE</th>\n",
       "      <th>FEMALE</th>\n",
       "      <th>LOS</th>\n",
       "      <th>RACE</th>\n",
       "      <th>TOTCHG</th>\n",
       "      <th>APRDRG</th>\n",
       "    </tr>\n",
       "  </thead>\n",
       "  <tbody>\n",
       "    <tr>\n",
       "      <th>0</th>\n",
       "      <td>17</td>\n",
       "      <td>1</td>\n",
       "      <td>2</td>\n",
       "      <td>1.0</td>\n",
       "      <td>2660</td>\n",
       "      <td>560</td>\n",
       "    </tr>\n",
       "    <tr>\n",
       "      <th>1</th>\n",
       "      <td>17</td>\n",
       "      <td>0</td>\n",
       "      <td>2</td>\n",
       "      <td>1.0</td>\n",
       "      <td>1689</td>\n",
       "      <td>753</td>\n",
       "    </tr>\n",
       "    <tr>\n",
       "      <th>2</th>\n",
       "      <td>17</td>\n",
       "      <td>1</td>\n",
       "      <td>7</td>\n",
       "      <td>1.0</td>\n",
       "      <td>20060</td>\n",
       "      <td>930</td>\n",
       "    </tr>\n",
       "    <tr>\n",
       "      <th>3</th>\n",
       "      <td>17</td>\n",
       "      <td>1</td>\n",
       "      <td>1</td>\n",
       "      <td>1.0</td>\n",
       "      <td>736</td>\n",
       "      <td>758</td>\n",
       "    </tr>\n",
       "    <tr>\n",
       "      <th>4</th>\n",
       "      <td>17</td>\n",
       "      <td>1</td>\n",
       "      <td>1</td>\n",
       "      <td>1.0</td>\n",
       "      <td>1194</td>\n",
       "      <td>754</td>\n",
       "    </tr>\n",
       "  </tbody>\n",
       "</table>\n",
       "</div>"
      ],
      "text/plain": [
       "   AGE  FEMALE  LOS  RACE  TOTCHG  APRDRG\n",
       "0   17       1    2   1.0    2660     560\n",
       "1   17       0    2   1.0    1689     753\n",
       "2   17       1    7   1.0   20060     930\n",
       "3   17       1    1   1.0     736     758\n",
       "4   17       1    1   1.0    1194     754"
      ]
     },
     "execution_count": 3,
     "metadata": {},
     "output_type": "execute_result"
    }
   ],
   "source": [
    "data.head()"
   ]
  },
  {
   "cell_type": "code",
   "execution_count": 4,
   "id": "1f63086b",
   "metadata": {
    "scrolled": true
   },
   "outputs": [],
   "source": [
    "df =data.fillna(value=data['RACE'].mean())"
   ]
  },
  {
   "cell_type": "code",
   "execution_count": 5,
   "id": "d2ecec59",
   "metadata": {
    "scrolled": true
   },
   "outputs": [
    {
     "data": {
      "text/plain": [
       "AGE       0\n",
       "FEMALE    0\n",
       "LOS       0\n",
       "RACE      0\n",
       "TOTCHG    0\n",
       "APRDRG    0\n",
       "dtype: int64"
      ]
     },
     "execution_count": 5,
     "metadata": {},
     "output_type": "execute_result"
    }
   ],
   "source": [
    "df.isnull().sum()"
   ]
  },
  {
   "cell_type": "code",
   "execution_count": 6,
   "id": "514cfab8",
   "metadata": {
    "scrolled": false
   },
   "outputs": [
    {
     "data": {
      "text/plain": [
       "Index(['AGE', 'FEMALE', 'LOS', 'RACE', 'TOTCHG', 'APRDRG'], dtype='object')"
      ]
     },
     "execution_count": 6,
     "metadata": {},
     "output_type": "execute_result"
    }
   ],
   "source": [
    "df.columns"
   ]
  },
  {
   "cell_type": "code",
   "execution_count": 7,
   "id": "b3c1721a",
   "metadata": {},
   "outputs": [],
   "source": [
    "X = df[['AGE', 'FEMALE', 'LOS', 'RACE','APRDRG']]\n",
    "Y = df['TOTCHG']"
   ]
  },
  {
   "cell_type": "code",
   "execution_count": 8,
   "id": "58ecd549",
   "metadata": {},
   "outputs": [],
   "source": [
    "#normalising the data\n",
    "for i in X.columns:\n",
    "    X = X - X.mean(axis=0)\n",
    "    X[i] = X[i]/np.max(np.abs(X[i]))"
   ]
  },
  {
   "cell_type": "code",
   "execution_count": 9,
   "id": "993f4f58",
   "metadata": {
    "scrolled": false
   },
   "outputs": [],
   "source": [
    "#data splitting\n",
    "df = df.sample(frac=1)\n",
    "indices = range(df.shape[0])\n",
    "train_size = int(0.8 * df.shape[0])\n",
    "train_indices = indices[:train_size]\n",
    "test_indices = indices[train_size:]\n",
    "\n",
    "Xtrain, Xtest = X.iloc[train_indices], X.iloc[test_indices]\n",
    "Ytrain, Ytest = Y.iloc[train_indices], Y.iloc[test_indices]\n"
   ]
  },
  {
   "cell_type": "code",
   "execution_count": 10,
   "id": "95d37035",
   "metadata": {
    "scrolled": true
   },
   "outputs": [],
   "source": [
    "def CostFunction(X,Y,theta,constant):\n",
    "    cost = np.sum((((X.dot(theta) + constant) - Y) ** 2) / (2*len(Y)))\n",
    "    return cost\n",
    "\n",
    "def GradientDescent(X,Y, theta, constant, learning_rate, iterations):\n",
    "    cost_list = [0] * iterations\n",
    "   \n",
    "    for i in range(iterations):\n",
    "        hypo = X.dot(theta) + constant\n",
    "        loss = hypo - Y\n",
    "        \n",
    "        weight = X.T.dot(loss) / len(Y)\n",
    "        \n",
    "        bias = np.sum(loss) / len(Y)\n",
    "        \n",
    "        theta = theta - learning_rate*weight\n",
    "        \n",
    "        constant = constant - learning_rate*bias\n",
    "        \n",
    "        cost = CostFunction(X, Y, theta, constant)\n",
    "        \n",
    "        cost_list[i] = cost\n",
    "        \n",
    "        if (i%(iterations/10)==0):\n",
    "            print(\"Cost is:\",cost)\n",
    "        \n",
    "        \n",
    "    return theta, constant, cost_list\n",
    "    "
   ]
  },
  {
   "cell_type": "code",
   "execution_count": 11,
   "id": "6ac9fb65",
   "metadata": {
    "scrolled": false
   },
   "outputs": [
    {
     "name": "stdout",
     "output_type": "stream",
     "text": [
      "Cost is: 12664545.311856706\n",
      "Cost is: 5586175.420072367\n",
      "Cost is: 4719408.683284788\n",
      "Cost is: 4355167.6049125325\n",
      "Cost is: 4201984.199573486\n",
      "Cost is: 4137517.481876965\n",
      "Cost is: 4110368.037301174\n",
      "Cost is: 4098926.4049525363\n",
      "Cost is: 4094101.193436214\n",
      "Cost is: 4092064.876785663\n"
     ]
    }
   ],
   "source": [
    "theta,constant, c= GradientDescent(Xtrain, Ytrain, np.zeros(Xtrain.shape[1]), 0, 0.05,iterations=10000)"
   ]
  },
  {
   "cell_type": "code",
   "execution_count": 12,
   "id": "aed47342",
   "metadata": {},
   "outputs": [
    {
     "data": {
      "text/plain": [
       "AGE        1658.594974\n",
       "FEMALE     -196.780477\n",
       "LOS       28240.477463\n",
       "RACE      -1493.727331\n",
       "APRDRG    -4537.475889\n",
       "dtype: float64"
      ]
     },
     "execution_count": 12,
     "metadata": {},
     "output_type": "execute_result"
    }
   ],
   "source": [
    "theta"
   ]
  },
  {
   "cell_type": "code",
   "execution_count": 13,
   "id": "2cab7890",
   "metadata": {
    "scrolled": false
   },
   "outputs": [
    {
     "data": {
      "text/plain": [
       "[<matplotlib.lines.Line2D at 0x1c4bab1eaa0>]"
      ]
     },
     "execution_count": 13,
     "metadata": {},
     "output_type": "execute_result"
    },
    {
     "data": {
      "image/png": "[encoded data removed]",
      "text/plain": [
       "<Figure size 432x288 with 1 Axes>"
      ]
     },
     "metadata": {
      "needs_background": "light"
     },
     "output_type": "display_data"
    }
   ],
   "source": [
    "plt.plot(c)"
   ]
  },
  {
   "cell_type": "code",
   "execution_count": 14,
   "id": "aeccd18a",
   "metadata": {
    "scrolled": false
   },
   "outputs": [
    {
     "data": {
      "text/plain": [
       "AGE        1658.594974\n",
       "FEMALE     -196.780477\n",
       "LOS       28240.477463\n",
       "RACE      -1493.727331\n",
       "APRDRG    -4537.475889\n",
       "dtype: float64"
      ]
     },
     "execution_count": 14,
     "metadata": {},
     "output_type": "execute_result"
    }
   ],
   "source": [
    "theta"
   ]
  },
  {
   "cell_type": "code",
   "execution_count": 15,
   "id": "6f84a7e3",
   "metadata": {},
   "outputs": [],
   "source": [
    "def predict(X, theta, constant): \n",
    "    return X.dot(theta) + constant\n",
    "y_pred = predict(Xtest, theta, constant)\n",
    "preds = X.dot(theta) + constant"
   ]
  },
  {
   "cell_type": "code",
   "execution_count": 19,
   "id": "c89fcc90",
   "metadata": {},
   "outputs": [
    {
     "data": {
      "text/plain": [
       "0.7859544460428939"
      ]
     },
     "execution_count": 19,
     "metadata": {},
     "output_type": "execute_result"
    }
   ],
   "source": [
    "def r2score(y_pred, Ytest):\n",
    "    rss = np.sum((y_pred - Ytest) ** 2)\n",
    "    tss = np.sum((Ytest-Y.mean()) ** 2)\n",
    "    \n",
    "    r2 = 1 - (rss / tss)\n",
    "    return r2\n",
    "r2score(y_pred, Ytest)"
   ]
  },
  {
   "cell_type": "code",
   "execution_count": 18,
   "id": "1dd5a5f8",
   "metadata": {
    "scrolled": true
   },
   "outputs": [
    {
     "data": {
      "image/png": "[encoded data removed]",
      "text/plain": [
       "<Figure size 432x288 with 1 Axes>"
      ]
     },
     "metadata": {
      "needs_background": "light"
     },
     "output_type": "display_data"
    }
   ],
   "source": [
    "plt.scatter(x= list(range(0,len(Y))),y=Y, color ='blue')\n",
    "\n",
    "for i in range(len(X)):\n",
    "    plt.scatter(x=i,y=(np.sum(X.iloc[i]*theta)), color='black')\n"
   ]
  }
 ],
 "metadata": {
  "kernelspec": {
   "display_name": "Python 3 (ipykernel)",
   "language": "python",
   "name": "python3"
  },
  "language_info": {
   "codemirror_mode": {
    "name": "ipython",
    "version": 3
   },
   "file_extension": ".py",
   "mimetype": "text/x-python",
   "name": "python",
   "nbconvert_exporter": "python",
   "pygments_lexer": "ipython3",
   "version": "3.10.1"
  }
 },
 "nbformat": 4,
 "nbformat_minor": 5
}
